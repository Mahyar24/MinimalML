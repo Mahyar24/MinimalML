{
 "cells": [
  {
   "cell_type": "markdown",
   "id": "0967d707-d202-480f-93f6-680f63d5414f",
   "metadata": {},
   "source": [
    "## Minimal K-Nearest Neighbors Classifier Implementation"
   ]
  },
  {
   "cell_type": "code",
   "execution_count": 1,
   "id": "9657690c-5d72-4cd1-a1c5-b63788e97e04",
   "metadata": {},
   "outputs": [],
   "source": [
    "import numpy as np\n",
    "import pandas as pd"
   ]
  },
  {
   "cell_type": "code",
   "execution_count": 2,
   "id": "e77f6396-81e7-4a57-91ba-c0ef2ef75389",
   "metadata": {},
   "outputs": [],
   "source": [
    "from sklearn.base import BaseEstimator\n",
    "from scipy.stats import mode"
   ]
  },
  {
   "cell_type": "code",
   "execution_count": 3,
   "id": "e3cb7725-6cd2-49c2-97b2-156f2d2511cd",
   "metadata": {},
   "outputs": [],
   "source": [
    "class KNeighborsClassifier(BaseEstimator):\n",
    "        \n",
    "    def __init__(self, n_neighbors=5):\n",
    "        self.n_neighbors = n_neighbors\n",
    "        \n",
    "        \n",
    "    def fit(self, X, y):\n",
    "        assert X.shape[0] == y.shape[0]\n",
    "        \n",
    "        self.X_ = np.copy(X)\n",
    "        self.y_ = np.copy(y)\n",
    "    \n",
    "    \n",
    "    @staticmethod\n",
    "    def _most_frequent(arr):  # Finding most frequent number of an array.\n",
    "        return mode(arr)[0][0]\n",
    "    \n",
    "    \n",
    "    def _calculate_distances(self, X):\n",
    "        return np.linalg.norm(X - self.X_[:, None], axis=-1).T\n",
    "        \n",
    "\n",
    "    def predict(self, X):\n",
    "        assert X.shape[1] == self.X_.shape[1]\n",
    "        \n",
    "        distances = self._calculate_distances(X)\n",
    "        order = distances.argsort(axis=1)\n",
    "        nearest_neighbors = self.y_[order][:, :self.n_neighbors]\n",
    "        prediction = np.apply_along_axis(self._most_frequent, arr=nearest_neighbors, axis=1)  # Finding most frequent class for each prediction.\n",
    "        \n",
    "        return prediction"
   ]
  },
  {
   "cell_type": "code",
   "execution_count": 4,
   "id": "a0d8fcb9-cf82-46c5-bc81-495c51e7d99f",
   "metadata": {},
   "outputs": [],
   "source": [
    "from sklearn.datasets import make_classification\n",
    "X, y = make_classification(n_samples=2_000, n_features=10, n_classes=3, n_informative=8)"
   ]
  },
  {
   "cell_type": "code",
   "execution_count": 5,
   "id": "cf6a9eb3-e490-4d23-841e-e6d3f6543181",
   "metadata": {},
   "outputs": [],
   "source": [
    "clf = KNeighborsClassifier(n_neighbors=5)\n",
    "clf.fit(X, y)"
   ]
  },
  {
   "cell_type": "code",
   "execution_count": 6,
   "id": "342b37da-6c32-49dc-90cf-13a5dbeddf74",
   "metadata": {},
   "outputs": [
    {
     "data": {
      "text/plain": [
       "0.91"
      ]
     },
     "execution_count": 6,
     "metadata": {},
     "output_type": "execute_result"
    }
   ],
   "source": [
    "from sklearn.metrics import accuracy_score\n",
    "accuracy_score(y, clf.predict(X))"
   ]
  },
  {
   "cell_type": "code",
   "execution_count": 7,
   "id": "54dfc169-c355-443e-ae7c-dbd994b1bf78",
   "metadata": {},
   "outputs": [
    {
     "data": {
      "text/plain": [
       "0.8689377684520952"
      ]
     },
     "execution_count": 7,
     "metadata": {},
     "output_type": "execute_result"
    }
   ],
   "source": [
    "from sklearn.model_selection import cross_val_score\n",
    "from scipy.stats import hmean\n",
    "hmean(cross_val_score(KNeighborsClassifier(n_neighbors=5), X, y, scoring='accuracy', cv=10, n_jobs=-1))"
   ]
  },
  {
   "cell_type": "code",
   "execution_count": 8,
   "id": "536417c8-3c2c-49f6-b0a1-13e7f6ce1314",
   "metadata": {},
   "outputs": [
    {
     "data": {
      "text/plain": [
       "0.8659958285808481"
      ]
     },
     "execution_count": 8,
     "metadata": {},
     "output_type": "execute_result"
    }
   ],
   "source": [
    "from sklearn.neighbors import KNeighborsClassifier as sk_clf\n",
    "hmean(cross_val_score(sk_clf(), X, y, scoring='accuracy', cv=10, n_jobs=-1))"
   ]
  }
 ],
 "metadata": {
  "kernelspec": {
   "display_name": "Python 3",
   "language": "python",
   "name": "python3"
  },
  "language_info": {
   "codemirror_mode": {
    "name": "ipython",
    "version": 3
   },
   "file_extension": ".py",
   "mimetype": "text/x-python",
   "name": "python",
   "nbconvert_exporter": "python",
   "pygments_lexer": "ipython3",
   "version": "3.10.4"
  }
 },
 "nbformat": 4,
 "nbformat_minor": 5
}
