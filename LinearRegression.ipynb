{
 "cells": [
  {
   "cell_type": "markdown",
   "id": "0967d707-d202-480f-93f6-680f63d5414f",
   "metadata": {
    "tags": []
   },
   "source": [
    "## Minimal Linear Regression Regressor Implementation"
   ]
  },
  {
   "cell_type": "code",
   "execution_count": 1,
   "id": "9657690c-5d72-4cd1-a1c5-b63788e97e04",
   "metadata": {},
   "outputs": [],
   "source": [
    "import numpy as np\n",
    "import pandas as pd"
   ]
  },
  {
   "cell_type": "code",
   "execution_count": 2,
   "id": "e77f6396-81e7-4a57-91ba-c0ef2ef75389",
   "metadata": {},
   "outputs": [],
   "source": [
    "from sklearn.base import BaseEstimator"
   ]
  },
  {
   "cell_type": "code",
   "execution_count": 3,
   "id": "e3cb7725-6cd2-49c2-97b2-156f2d2511cd",
   "metadata": {},
   "outputs": [],
   "source": [
    "class LinearRegression(BaseEstimator):\n",
    "        \n",
    "    def __init__(self, alpha, max_iter):\n",
    "        self.alpha = alpha\n",
    "        self.max_iter = max_iter\n",
    "    \n",
    "\n",
    "    def fit(self, X, y):\n",
    "        assert X.shape[0] == y.shape[0]\n",
    "        m = X.shape[0]\n",
    "        \n",
    "        self.loss_ = np.zeros(self.max_iter)\n",
    "        self.features_num_ = X.shape[1]\n",
    "        self.weights_ = np.zeros(self.features_num_)\n",
    "        self.bias_ = 0.\n",
    "        \n",
    "        for i in range(self.max_iter):\n",
    "            prediction = (X @ self.weights_) + self.bias_\n",
    "            d_loss = prediction - y\n",
    "            \n",
    "            self.loss_[i] = (d_loss ** 2).sum() / (2 * m)  # diff ** 2 == (-diff) ** 2\n",
    "            \n",
    "            dw = (d_loss @ X)  / m\n",
    "            db = d_loss.sum() / m\n",
    "            \n",
    "            self.weights_ -= self.alpha * dw\n",
    "            self.bias_ -= self.alpha * db\n",
    "            \n",
    "        \n",
    "    def predict(self, X):\n",
    "        assert X.shape[1] == self.features_num_\n",
    "        \n",
    "        return (X @ self.weights_) + self.bias_"
   ]
  },
  {
   "cell_type": "code",
   "execution_count": 4,
   "id": "d15dd2bb-0433-484e-947c-309c3dd46ffa",
   "metadata": {},
   "outputs": [],
   "source": [
    "from sklearn.datasets import make_regression\n",
    "X, y = make_regression(n_samples=50_000, n_features=25, n_informative=10, noise=75)"
   ]
  },
  {
   "cell_type": "code",
   "execution_count": 5,
   "id": "bacebf92-fadd-47e7-a1e3-0be2cde4baf9",
   "metadata": {},
   "outputs": [],
   "source": [
    "est = LinearRegression(alpha=0.1, max_iter=100)\n",
    "est.fit(X, y)"
   ]
  },
  {
   "cell_type": "code",
   "execution_count": 6,
   "id": "f2e6a1f7-c855-4779-abee-08fa7d382e77",
   "metadata": {},
   "outputs": [
    {
     "data": {
      "text/plain": [
       "0.8875560203641069"
      ]
     },
     "execution_count": 6,
     "metadata": {},
     "output_type": "execute_result"
    }
   ],
   "source": [
    "from sklearn.metrics import explained_variance_score\n",
    "explained_variance_score(y, est.predict(X))"
   ]
  },
  {
   "cell_type": "code",
   "execution_count": 7,
   "id": "76d6bd60-7333-43f5-bffa-f94930616a10",
   "metadata": {},
   "outputs": [
    {
     "data": {
      "image/png": "[encoded data removed]",
      "text/plain": [
       "<Figure size 864x576 with 1 Axes>"
      ]
     },
     "metadata": {
      "needs_background": "light"
     },
     "output_type": "display_data"
    }
   ],
   "source": [
    "import matplotlib.pyplot as plt\n",
    "\n",
    "fig = plt.figure(figsize=(12, 8))\n",
    "plt.plot(est.loss_);"
   ]
  },
  {
   "cell_type": "code",
   "execution_count": 8,
   "id": "efe39088-104f-4981-9310-b34ec1d0d2bf",
   "metadata": {},
   "outputs": [
    {
     "data": {
      "text/plain": [
       "0.8874123298382169"
      ]
     },
     "execution_count": 8,
     "metadata": {},
     "output_type": "execute_result"
    }
   ],
   "source": [
    "from sklearn.model_selection import cross_val_score\n",
    "cross_val_score(LinearRegression(alpha=0.1, max_iter=100), X, y, scoring='explained_variance', cv=10).mean()"
   ]
  },
  {
   "cell_type": "code",
   "execution_count": 9,
   "id": "cbef1b84-287b-4074-a3f4-a6f9c3f619db",
   "metadata": {},
   "outputs": [
    {
     "data": {
      "text/plain": [
       "0.8874123357767131"
      ]
     },
     "execution_count": 9,
     "metadata": {},
     "output_type": "execute_result"
    }
   ],
   "source": [
    "from sklearn.linear_model import LinearRegression as sk_est\n",
    "cross_val_score(sk_est(), X, y, scoring='explained_variance', cv=10).mean()"
   ]
  }
 ],
 "metadata": {
  "kernelspec": {
   "display_name": "Python 3",
   "language": "python",
   "name": "python3"
  },
  "language_info": {
   "codemirror_mode": {
    "name": "ipython",
    "version": 3
   },
   "file_extension": ".py",
   "mimetype": "text/x-python",
   "name": "python",
   "nbconvert_exporter": "python",
   "pygments_lexer": "ipython3",
   "version": "3.10.4"
  }
 },
 "nbformat": 4,
 "nbformat_minor": 5
}
