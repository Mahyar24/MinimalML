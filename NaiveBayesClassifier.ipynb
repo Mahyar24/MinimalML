{
 "cells": [
  {
   "cell_type": "markdown",
   "id": "0967d707-d202-480f-93f6-680f63d5414f",
   "metadata": {},
   "source": [
    "## Minimal Naive Bayes Classifier Implementation"
   ]
  },
  {
   "cell_type": "code",
   "execution_count": 1,
   "id": "9657690c-5d72-4cd1-a1c5-b63788e97e04",
   "metadata": {},
   "outputs": [],
   "source": [
    "import numpy as np\n",
    "import pandas as pd"
   ]
  },
  {
   "cell_type": "code",
   "execution_count": 2,
   "id": "e77f6396-81e7-4a57-91ba-c0ef2ef75389",
   "metadata": {},
   "outputs": [],
   "source": [
    "from sklearn.base import BaseEstimator"
   ]
  },
  {
   "cell_type": "code",
   "execution_count": 21,
   "id": "e3cb7725-6cd2-49c2-97b2-156f2d2511cd",
   "metadata": {},
   "outputs": [],
   "source": [
    "class NaiveBayesClassifier(BaseEstimator):\n",
    "    def __init__(self):\n",
    "        self._n_classes = np.nan\n",
    "        self._features_num = np.nan\n",
    "        self._mean = np.nan\n",
    "        self._var = np.nan\n",
    "        self._priors = np.nan\n",
    "\n",
    "    def gaussian_pdf(self, x, cls_id):\n",
    "        return np.exp(-0.5 * (((x - self._mean[cls_id]) ** 2) / self._var[cls_id])) / (\n",
    "            np.sqrt(2 * np.pi * self._var[cls_id])\n",
    "        )\n",
    "\n",
    "    def fit(self, X, y):\n",
    "        assert X.shape[0] == y.shape[0]\n",
    "        self._features_num = X.shape[1]\n",
    "\n",
    "        self._classes = np.unique(y)\n",
    "        self._mean = np.zeros((self._classes.shape[0], X.shape[1]), dtype=np.float64)\n",
    "        self._var = np.zeros((self._classes.shape[0], X.shape[1]), dtype=np.float64)\n",
    "        self._priors = np.zeros((self._classes.shape[0],), dtype=np.float64)\n",
    "\n",
    "        for i, cls in enumerate(self._classes):\n",
    "            self._mean[i, :] = X[y == cls].mean(axis=0)\n",
    "            self._var[i, :] = X[y == cls].var(axis=0)\n",
    "            self._priors[i] = X[y == cls].shape[0] / X.shape[0]\n",
    "\n",
    "    def predict_proba_one(self, x):\n",
    "        probs = np.zeros_like(self._classes)\n",
    "\n",
    "        for i, cls in enumerate(self._classes):\n",
    "            prior = np.log(self._priors[i])\n",
    "            posterior = np.sum(np.log(self.gaussian_pdf(x, i)))\n",
    "            probs[i] = prior + posterior\n",
    "\n",
    "        probs = np.exp(probs)\n",
    "        probs /= np.sum(probs)\n",
    "\n",
    "        return probs\n",
    "\n",
    "    def predict_proba(self, X):\n",
    "        assert X.shape[1] == self._features_num\n",
    "        return np.apply_along_axis(self.predict_proba_one, axis=1, arr=X)\n",
    "\n",
    "    def predict(self, X):\n",
    "        return np.argmax(self.predict_proba(X), axis=1)\n"
   ]
  },
  {
   "cell_type": "code",
   "execution_count": 22,
   "id": "d15dd2bb-0433-484e-947c-309c3dd46ffa",
   "metadata": {},
   "outputs": [],
   "source": [
    "from sklearn.datasets import make_classification\n",
    "X, y = make_classification(n_samples=10_000, n_features=10, n_classes=3, n_informative=8)"
   ]
  },
  {
   "cell_type": "code",
   "execution_count": 23,
   "id": "bacebf92-fadd-47e7-a1e3-0be2cde4baf9",
   "metadata": {},
   "outputs": [],
   "source": [
    "clf = NaiveBayesClassifier()\n",
    "clf.fit(X, y)"
   ]
  },
  {
   "cell_type": "code",
   "execution_count": 24,
   "id": "f2e6a1f7-c855-4779-abee-08fa7d382e77",
   "metadata": {},
   "outputs": [
    {
     "data": {
      "text/plain": [
       "0.7589"
      ]
     },
     "execution_count": 24,
     "metadata": {},
     "output_type": "execute_result"
    }
   ],
   "source": [
    "from sklearn.metrics import accuracy_score\n",
    "accuracy_score(y, clf.predict(X))"
   ]
  },
  {
   "cell_type": "code",
   "execution_count": 25,
   "id": "efe39088-104f-4981-9310-b34ec1d0d2bf",
   "metadata": {},
   "outputs": [
    {
     "data": {
      "text/plain": [
       "0.7582719027026683"
      ]
     },
     "execution_count": 25,
     "metadata": {},
     "output_type": "execute_result"
    }
   ],
   "source": [
    "from sklearn.model_selection import cross_val_score\n",
    "from scipy.stats import hmean\n",
    "hmean(cross_val_score(NaiveBayesClassifier(), X, y, scoring='accuracy', cv=10, n_jobs=-1))"
   ]
  },
  {
   "cell_type": "code",
   "execution_count": 26,
   "id": "cbef1b84-287b-4074-a3f4-a6f9c3f619db",
   "metadata": {},
   "outputs": [
    {
     "data": {
      "text/plain": [
       "0.7666419957666081"
      ]
     },
     "execution_count": 26,
     "metadata": {},
     "output_type": "execute_result"
    }
   ],
   "source": [
    "from sklearn.naive_bayes import GaussianNB as sk_clf\n",
    "hmean(cross_val_score(sk_clf(), X, y, scoring='accuracy', cv=10, n_jobs=-1))"
   ]
  }
 ],
 "metadata": {
  "kernelspec": {
   "display_name": "Python 3 (ipykernel)",
   "language": "python",
   "name": "python3"
  },
  "language_info": {
   "codemirror_mode": {
    "name": "ipython",
    "version": 3
   },
   "file_extension": ".py",
   "mimetype": "text/x-python",
   "name": "python",
   "nbconvert_exporter": "python",
   "pygments_lexer": "ipython3",
   "version": "3.10.6"
  }
 },
 "nbformat": 4,
 "nbformat_minor": 5
}
