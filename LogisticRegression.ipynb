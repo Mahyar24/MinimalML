{
 "cells": [
  {
   "cell_type": "markdown",
   "id": "0967d707-d202-480f-93f6-680f63d5414f",
   "metadata": {},
   "source": [
    "## Minimal Logistic Regression Classifier Implementation"
   ]
  },
  {
   "cell_type": "code",
   "execution_count": 1,
   "id": "9657690c-5d72-4cd1-a1c5-b63788e97e04",
   "metadata": {},
   "outputs": [],
   "source": [
    "import numpy as np\n",
    "import pandas as pd"
   ]
  },
  {
   "cell_type": "code",
   "execution_count": 2,
   "id": "e77f6396-81e7-4a57-91ba-c0ef2ef75389",
   "metadata": {},
   "outputs": [],
   "source": [
    "from sklearn.base import BaseEstimator\n",
    "import numba as nb"
   ]
  },
  {
   "cell_type": "code",
   "execution_count": 3,
   "id": "e3cb7725-6cd2-49c2-97b2-156f2d2511cd",
   "metadata": {},
   "outputs": [],
   "source": [
    "class LogisticRegression(BaseEstimator):\n",
    "        \n",
    "    def __init__(self, alpha, max_iter):\n",
    "        self.alpha = alpha\n",
    "        self.max_iter = max_iter\n",
    "        \n",
    "    \n",
    "    @staticmethod\n",
    "    @nb.vectorize([nb.float64(nb.float64)])  # Just for speeding things up.\n",
    "    def sigmoind(z):\n",
    "        return 1 / (1 + np.e ** (-z))\n",
    "    \n",
    "\n",
    "    def fit(self, X, y):\n",
    "        assert X.shape[0] == y.shape[0]\n",
    "        m = X.shape[0]\n",
    "        \n",
    "        self.loss_ = np.zeros(self.max_iter)\n",
    "        self.features_num_ = X.shape[1]\n",
    "        self.weights_ = np.zeros(self.features_num_)\n",
    "        self.bias_ = 0.\n",
    "        \n",
    "        for i in range(self.max_iter):\n",
    "            prediction_reg = (X @ self.weights_) + self.bias_\n",
    "            prediction = self.sigmoind(prediction_reg)\n",
    "            \n",
    "            self.loss_[i] = - (y @ np.log(prediction) + (1 - y) @ np.log(1 - prediction)) / m\n",
    "            d_loss = prediction - y  # - (y - prediction)\n",
    "            \n",
    "            dw = (d_loss @ X) / m\n",
    "            db = d_loss.sum() / m\n",
    "            \n",
    "            self.weights_ -= self.alpha * dw\n",
    "            self.bias_ -= self.alpha * db\n",
    "    \n",
    "    \n",
    "    def predict_proba(self, X):\n",
    "        assert X.shape[1] == self.features_num_\n",
    "        \n",
    "        prediction_reg = (X @ self.weights_) + self.bias_\n",
    "        proba = self.sigmoind(prediction_reg)\n",
    "\n",
    "        return np.column_stack((1 - proba, proba))\n",
    "    \n",
    "    \n",
    "    def predict(self, X):\n",
    "        return np.argmax(self.predict_proba(X), axis=1)"
   ]
  },
  {
   "cell_type": "code",
   "execution_count": 4,
   "id": "d15dd2bb-0433-484e-947c-309c3dd46ffa",
   "metadata": {},
   "outputs": [],
   "source": [
    "from sklearn.datasets import make_classification\n",
    "X, y = make_classification(n_samples=2_000, n_features=10)"
   ]
  },
  {
   "cell_type": "code",
   "execution_count": 5,
   "id": "bacebf92-fadd-47e7-a1e3-0be2cde4baf9",
   "metadata": {},
   "outputs": [],
   "source": [
    "clf = LogisticRegression(alpha=0.1, max_iter=300)\n",
    "clf.fit(X, y)"
   ]
  },
  {
   "cell_type": "code",
   "execution_count": 6,
   "id": "f2e6a1f7-c855-4779-abee-08fa7d382e77",
   "metadata": {},
   "outputs": [
    {
     "data": {
      "text/plain": [
       "0.932"
      ]
     },
     "execution_count": 6,
     "metadata": {},
     "output_type": "execute_result"
    }
   ],
   "source": [
    "from sklearn.metrics import accuracy_score\n",
    "accuracy_score(y, clf.predict(X))"
   ]
  },
  {
   "cell_type": "code",
   "execution_count": 7,
   "id": "76d6bd60-7333-43f5-bffa-f94930616a10",
   "metadata": {},
   "outputs": [
    {
     "data": {
      "image/png": "[encoded data removed]",
      "text/plain": [
       "<Figure size 864x576 with 1 Axes>"
      ]
     },
     "metadata": {
      "needs_background": "light"
     },
     "output_type": "display_data"
    }
   ],
   "source": [
    "import matplotlib.pyplot as plt\n",
    "\n",
    "fig = plt.figure(figsize=(12, 8))\n",
    "plt.plot(clf.loss_);"
   ]
  },
  {
   "cell_type": "code",
   "execution_count": 8,
   "id": "efe39088-104f-4981-9310-b34ec1d0d2bf",
   "metadata": {},
   "outputs": [
    {
     "data": {
      "text/plain": [
       "0.9259999999999999"
      ]
     },
     "execution_count": 8,
     "metadata": {},
     "output_type": "execute_result"
    }
   ],
   "source": [
    "from sklearn.model_selection import cross_val_score\n",
    "cross_val_score(LogisticRegression(alpha=0.1, max_iter=300), X, y, scoring='accuracy', cv=10, n_jobs=-1).mean()"
   ]
  },
  {
   "cell_type": "code",
   "execution_count": 9,
   "id": "cbef1b84-287b-4074-a3f4-a6f9c3f619db",
   "metadata": {},
   "outputs": [
    {
     "data": {
      "text/plain": [
       "0.9349999999999999"
      ]
     },
     "execution_count": 9,
     "metadata": {},
     "output_type": "execute_result"
    }
   ],
   "source": [
    "from sklearn.linear_model import LogisticRegression as sk_clf\n",
    "cross_val_score(sk_clf(), X, y, scoring='accuracy', cv=10, n_jobs=-1).mean()"
   ]
  },
  {
   "cell_type": "code",
   "execution_count": 10,
   "id": "58b46f9b-4ce2-436a-ad15-60f263581564",
   "metadata": {},
   "outputs": [
    {
     "data": {
      "text/plain": [
       "0.507"
      ]
     },
     "execution_count": 10,
     "metadata": {},
     "output_type": "execute_result"
    }
   ],
   "source": [
    "from sklearn.multiclass import OneVsRestClassifier\n",
    "X_5, y_5 = make_classification(n_samples=2_000, n_features=10, n_classes=5, n_informative=4)\n",
    "\n",
    "clf = OneVsRestClassifier(LogisticRegression(alpha=0.1, max_iter=500), n_jobs=-1)\n",
    "cross_val_score(clf, X_5, y_5, scoring='accuracy', cv=10, n_jobs=-1).mean()"
   ]
  },
  {
   "cell_type": "code",
   "execution_count": 11,
   "id": "43c1ff23-fa1e-4aa5-b5c5-7277612d205f",
   "metadata": {},
   "outputs": [
    {
     "data": {
      "text/plain": [
       "0.503"
      ]
     },
     "execution_count": 11,
     "metadata": {},
     "output_type": "execute_result"
    }
   ],
   "source": [
    "cross_val_score(sk_clf(), X_5, y_5, scoring='accuracy', cv=10, n_jobs=-1).mean()"
   ]
  }
 ],
 "metadata": {
  "kernelspec": {
   "display_name": "Python 3",
   "language": "python",
   "name": "python3"
  },
  "language_info": {
   "codemirror_mode": {
    "name": "ipython",
    "version": 3
   },
   "file_extension": ".py",
   "mimetype": "text/x-python",
   "name": "python",
   "nbconvert_exporter": "python",
   "pygments_lexer": "ipython3",
   "version": "3.10.4"
  }
 },
 "nbformat": 4,
 "nbformat_minor": 5
}
